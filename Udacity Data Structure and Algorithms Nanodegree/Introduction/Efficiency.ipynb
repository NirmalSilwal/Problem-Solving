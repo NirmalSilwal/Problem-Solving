{
 "cells": [
  {
   "cell_type": "markdown",
   "metadata": {},
   "source": [
    "# Big O Notation"
   ]
  },
  {
   "cell_type": "markdown",
   "metadata": {},
   "source": [
    "One of the main goals of this lesson is to help you develop your ability to look at some code and identify its time complexity—and then describe this time complexity using Big O notation.\n",
    "\n",
    "We will use this graph as a referece and reminder of the importance of the run time of an algorithm. We have the number of inputs (n) on the X axis and the the number of operations required (N) on the Y axis.\n",
    "\n",
    "<img src=\"./assets/bigo.svg\" alt=\"Drawing\" style=\"width: 400px;\"/>\n",
    "\n",
    "[\"Comparison of computational complexity\"](https://commons.wikimedia.org/wiki/File:Comparison_computational_complexity.svg) by Cmglee. Used under [CC BY-SA 4.0](https://creativecommons.org/licenses/by-sa/4.0/deed.en)."
   ]
  },
  {
   "cell_type": "markdown",
   "metadata": {},
   "source": [
    "#### Quadratic Example"
   ]
  },
  {
   "cell_type": "code",
   "execution_count": 1,
   "metadata": {},
   "outputs": [
    {
     "name": "stdout",
     "output_type": "stream",
     "text": [
      "Items: 1, 1\n",
      "Items: 1, 2\n",
      "Items: 1, 3\n",
      "Items: 1, 4\n",
      "Items: 2, 1\n",
      "Items: 2, 2\n",
      "Items: 2, 3\n",
      "Items: 2, 4\n",
      "Items: 3, 1\n",
      "Items: 3, 2\n",
      "Items: 3, 3\n",
      "Items: 3, 4\n",
      "Items: 4, 1\n",
      "Items: 4, 2\n",
      "Items: 4, 3\n",
      "Items: 4, 4\n",
      "CPU times: user 3 µs, sys: 0 ns, total: 3 µs\n",
      "Wall time: 7.15 µs\n"
     ]
    }
   ],
   "source": [
    "# O(n^2)\n",
    "\n",
    "def Quad_Example(our_list):\n",
    "    for first_loop_item in our_list:\n",
    "        for second_loop_item in our_list:\n",
    "            print (\"Items: {}, {}\".format(first_loop_item,second_loop_item))\n",
    "            \n",
    "            \n",
    "Quad_Example([1,2,3,4])\n",
    "\n",
    "%time"
   ]
  },
  {
   "cell_type": "markdown",
   "metadata": {},
   "source": [
    "#### Log Linear Example "
   ]
  },
  {
   "cell_type": "code",
   "execution_count": 4,
   "metadata": {},
   "outputs": [
    {
     "name": "stdout",
     "output_type": "stream",
     "text": [
      "[0, 4, 4, 11, 12, 23, 35, 56, 65, 65, 84, 90]\n",
      "CPU times: user 4 µs, sys: 1 µs, total: 5 µs\n",
      "Wall time: 6.68 µs\n"
     ]
    }
   ],
   "source": [
    "# O(nlogn)\n",
    "\n",
    "# Don't worry about how this algorithm works, we will cover it later in the course!\n",
    "\n",
    "def Log_Linear_Example(our_list):\n",
    "    \n",
    "    if len(our_list) < 2:\n",
    "        return our_list\n",
    "    \n",
    "    else:\n",
    "        mid = len(our_list)//2\n",
    "        left = our_list[:mid]\n",
    "        right = our_list[mid:]\n",
    "\n",
    "        Log_Linear_Example(left)\n",
    "        Log_Linear_Example(right)\n",
    "\n",
    "        i = 0\n",
    "        j = 0\n",
    "        k = 0\n",
    "\n",
    "        while i < len(left) and j < len(right):\n",
    "            if left[i] < right[j]:\n",
    "                our_list[k]=left[i]\n",
    "                i+=1\n",
    "            else:\n",
    "                our_list[k]=right[j]\n",
    "                j+=1\n",
    "            k+=1\n",
    "\n",
    "        while i < len(left):\n",
    "            our_list[k]=left[i]\n",
    "            i+=1\n",
    "            k+=1\n",
    "\n",
    "        while j < len(right):\n",
    "            our_list[k]=right[j]\n",
    "            j+=1\n",
    "            k+=1\n",
    "        \n",
    "        return our_list\n",
    "\n",
    "x=Log_Linear_Example([56,23,11,90,65,4,35,65,84,12,4,0])\n",
    "print(x)\n",
    "\n",
    "\n",
    "%time"
   ]
  },
  {
   "cell_type": "markdown",
   "metadata": {},
   "source": [
    "#### Linear Example"
   ]
  },
  {
   "cell_type": "code",
   "execution_count": 1,
   "metadata": {},
   "outputs": [
    {
     "name": "stdout",
     "output_type": "stream",
     "text": [
      "Item: 1\n",
      "Item: 2\n",
      "Item: 3\n",
      "Item: 4\n",
      "CPU times: user 3 µs, sys: 0 ns, total: 3 µs\n",
      "Wall time: 6.2 µs\n"
     ]
    }
   ],
   "source": [
    "# O(n)\n",
    "\n",
    "def Linear_Example(our_list):\n",
    "    for item in our_list:\n",
    "        print (\"Item: {}\".format(item))\n",
    "\n",
    "Linear_Example([1,2,3,4])\n",
    "\n",
    "%time"
   ]
  },
  {
   "cell_type": "markdown",
   "metadata": {},
   "source": [
    "#### Logarithmic Example"
   ]
  },
  {
   "cell_type": "code",
   "execution_count": 3,
   "metadata": {},
   "outputs": [
    {
     "name": "stdout",
     "output_type": "stream",
     "text": [
      "514229\n",
      "CPU times: user 3 µs, sys: 1 µs, total: 4 µs\n",
      "Wall time: 5.72 µs\n"
     ]
    }
   ],
   "source": [
    "# O(logn)\n",
    "\n",
    "def Logarithmic_Example(number):\n",
    "    if number == 0: \n",
    "        return 0\n",
    "    \n",
    "    elif number == 1: \n",
    "        return 1\n",
    "    \n",
    "    else: \n",
    "        return Logarithmic_Example(number-1)+Logarithmic_Example(number-2)\n",
    "\n",
    "    \n",
    "print(Logarithmic_Example(29))\n",
    "\n",
    "%time"
   ]
  },
  {
   "cell_type": "markdown",
   "metadata": {},
   "source": [
    "#### Constant Example"
   ]
  },
  {
   "cell_type": "code",
   "execution_count": 5,
   "metadata": {},
   "outputs": [
    {
     "name": "stdout",
     "output_type": "stream",
     "text": [
      "CPU times: user 3 µs, sys: 1 µs, total: 4 µs\n",
      "Wall time: 6.2 µs\n"
     ]
    }
   ],
   "source": [
    "# O(1)\n",
    "\n",
    "def Constant_Example(our_list):\n",
    "    return our_list.pop()\n",
    "\n",
    "Constant_Example([1,2,3,4])\n",
    "\n",
    "%time"
   ]
  },
  {
   "cell_type": "code",
   "execution_count": null,
   "metadata": {},
   "outputs": [],
   "source": []
  }
 ],
 "metadata": {
  "kernelspec": {
   "display_name": "Python 3",
   "language": "python",
   "name": "python3"
  },
  "language_info": {
   "codemirror_mode": {
    "name": "ipython",
    "version": 3
   },
   "file_extension": ".py",
   "mimetype": "text/x-python",
   "name": "python",
   "nbconvert_exporter": "python",
   "pygments_lexer": "ipython3",
   "version": "3.6.3"
  },
  "widgets": {
   "state": {},
   "version": "1.1.2"
  }
 },
 "nbformat": 4,
 "nbformat_minor": 2
}
