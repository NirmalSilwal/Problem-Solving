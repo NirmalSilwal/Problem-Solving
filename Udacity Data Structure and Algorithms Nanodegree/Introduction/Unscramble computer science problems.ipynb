{
 "cells": [
  {
   "cell_type": "markdown",
   "metadata": {},
   "source": [
    "## TASK 0"
   ]
  },
  {
   "cell_type": "code",
   "execution_count": 1,
   "metadata": {},
   "outputs": [
    {
     "data": {
      "text/plain": [
       "'\\nTASK 0:\\nWhat is the first record of texts and what is the last record of calls?\\nPrint messages:\\n\"First record of texts, <incoming number> texts <answering number> at time <time>\"\\n\"Last record of calls, <incoming number> calls <answering number> at time <time>, lasting <during> seconds\"\\n'"
      ]
     },
     "execution_count": 1,
     "metadata": {},
     "output_type": "execute_result"
    }
   ],
   "source": [
    "\"\"\"\n",
    "Read file into texts and calls.\n",
    "It's ok if you don't understand how to read files.\n",
    "\"\"\"\n",
    "import csv\n",
    "with open('texts.csv', 'r') as f:\n",
    "    reader = csv.reader(f)\n",
    "    texts = list(reader)\n",
    "\n",
    "with open('calls.csv', 'r') as f:\n",
    "    reader = csv.reader(f)\n",
    "    calls = list(reader)\n",
    "\n",
    "\n",
    "\"\"\"\n",
    "TASK 0:\n",
    "What is the first record of texts and what is the last record of calls?\n",
    "Print messages:\n",
    "\"First record of texts, <incoming number> texts <answering number> at time <time>\"\n",
    "\"Last record of calls, <incoming number> calls <answering number> at time <time>, lasting <during> seconds\"\n",
    "\"\"\""
   ]
  },
  {
   "cell_type": "markdown",
   "metadata": {},
   "source": [
    "### task 0: COMPLETE SOLUTION"
   ]
  },
  {
   "cell_type": "code",
   "execution_count": 67,
   "metadata": {},
   "outputs": [
    {
     "name": "stdout",
     "output_type": "stream",
     "text": [
      "First record of texts, 97424 22395 texts 90365 06212 at time 01-09-2016 06:03:22\n",
      "Last record of calls, 98447 62998 calls (080)46304537 at time 30-09-2016 23:57:15, lasting 2151 seconds\n"
     ]
    }
   ],
   "source": [
    "print(f\"First record of texts, {texts[0][0]} texts {texts[0][1]} at time {texts[0][-1]}\")\n",
    "\n",
    "print(f\"Last record of calls, {calls[-1][0]} calls {calls[-1][1]} at time {calls[-1][2]}, lasting {calls[-1][-1]} seconds\")"
   ]
  },
  {
   "cell_type": "markdown",
   "metadata": {},
   "source": [
    "## TASK 1"
   ]
  },
  {
   "cell_type": "code",
   "execution_count": 4,
   "metadata": {},
   "outputs": [
    {
     "data": {
      "text/plain": [
       "'\\nTASK 1:\\nHow many different telephone numbers are there in the records? \\nPrint a message:\\n\"There are <count> different telephone numbers in the records.\"\\n'"
      ]
     },
     "execution_count": 4,
     "metadata": {},
     "output_type": "execute_result"
    }
   ],
   "source": [
    "\"\"\"\n",
    "Read file into texts and calls.\n",
    "It's ok if you don't understand how to read files.\n",
    "\"\"\"\n",
    "import csv\n",
    "with open('texts.csv', 'r') as f:\n",
    "    reader = csv.reader(f)\n",
    "    texts = list(reader)\n",
    "\n",
    "with open('calls.csv', 'r') as f:\n",
    "    reader = csv.reader(f)\n",
    "    calls = list(reader)\n",
    "\n",
    "\n",
    "\"\"\"\n",
    "TASK 1:\n",
    "How many different telephone numbers are there in the records? \n",
    "Print a message:\n",
    "\"There are <count> different telephone numbers in the records.\"\n",
    "\"\"\""
   ]
  },
  {
   "cell_type": "code",
   "execution_count": 42,
   "metadata": {},
   "outputs": [],
   "source": [
    "sender = []\n",
    "receiver = []\n",
    "\n",
    "for detail in texts:\n",
    "    sender.append(detail[0])\n",
    "    receiver.append(detail[1])\n",
    "    \n",
    "assert len(texts) == len(sender)\n",
    "assert len(texts) == len(receiver)"
   ]
  },
  {
   "cell_type": "code",
   "execution_count": 43,
   "metadata": {},
   "outputs": [
    {
     "data": {
      "text/plain": [
       "(9072, 9072, 9072)"
      ]
     },
     "execution_count": 43,
     "metadata": {},
     "output_type": "execute_result"
    }
   ],
   "source": [
    "len(sender),len(receiver),len(texts)"
   ]
  },
  {
   "cell_type": "code",
   "execution_count": 44,
   "metadata": {},
   "outputs": [],
   "source": [
    "caller = []\n",
    "call_receiver = []\n",
    "\n",
    "for detail in calls:\n",
    "    caller.append(detail[0])\n",
    "    call_receiver.append(detail[1])\n",
    "    \n",
    "assert len(calls) == len(caller)\n",
    "assert len(calls) == len(call_receiver)"
   ]
  },
  {
   "cell_type": "code",
   "execution_count": 45,
   "metadata": {},
   "outputs": [
    {
     "data": {
      "text/plain": [
       "(5213, 5213, 5213)"
      ]
     },
     "execution_count": 45,
     "metadata": {},
     "output_type": "execute_result"
    }
   ],
   "source": [
    "len(caller), len(call_receiver), len(calls)"
   ]
  },
  {
   "cell_type": "markdown",
   "metadata": {},
   "source": [
    "this indicates data is not missing"
   ]
  },
  {
   "cell_type": "code",
   "execution_count": 52,
   "metadata": {},
   "outputs": [],
   "source": [
    "telephone_num = sender + receiver + call_receiver + caller"
   ]
  },
  {
   "cell_type": "code",
   "execution_count": 53,
   "metadata": {},
   "outputs": [
    {
     "data": {
      "text/plain": [
       "28570"
      ]
     },
     "execution_count": 53,
     "metadata": {},
     "output_type": "execute_result"
    }
   ],
   "source": [
    "len(telephone_num)"
   ]
  },
  {
   "cell_type": "code",
   "execution_count": 55,
   "metadata": {},
   "outputs": [
    {
     "data": {
      "text/plain": [
       "570"
      ]
     },
     "execution_count": 55,
     "metadata": {},
     "output_type": "execute_result"
    }
   ],
   "source": [
    "len(set(telephone_num))"
   ]
  },
  {
   "cell_type": "code",
   "execution_count": 59,
   "metadata": {},
   "outputs": [
    {
     "data": {
      "text/plain": [
       "(237, 9072, 230, 9072)"
      ]
     },
     "execution_count": 59,
     "metadata": {},
     "output_type": "execute_result"
    }
   ],
   "source": [
    "len(set(sender)), len(sender), len(set(receiver)), len(receiver)"
   ]
  },
  {
   "cell_type": "code",
   "execution_count": 60,
   "metadata": {},
   "outputs": [
    {
     "data": {
      "text/plain": [
       "(479, 5213, 497, 5213)"
      ]
     },
     "execution_count": 60,
     "metadata": {},
     "output_type": "execute_result"
    }
   ],
   "source": [
    "len(set(caller)), len(caller), len(set(call_receiver)), len(call_receiver)"
   ]
  },
  {
   "cell_type": "code",
   "execution_count": 70,
   "metadata": {},
   "outputs": [
    {
     "name": "stdout",
     "output_type": "stream",
     "text": [
      "There are 570 different telephone numbers in the records.\n"
     ]
    }
   ],
   "source": [
    "# def count_phonenum(texts, calls):\n",
    "#     sender = []\n",
    "#     receiver = []\n",
    "\n",
    "#     for detail in texts:\n",
    "#         sender.append(detail[0])\n",
    "#         receiver.append(detail[1])\n",
    "\n",
    "\n",
    "#     caller = []\n",
    "#     call_receiver = []\n",
    "\n",
    "#     for detail in calls:\n",
    "#         caller.append(detail[0])\n",
    "#         call_receiver.append(detail[1])\n",
    "\n",
    "#     telephone_num = sender + receiver + call_receiver + caller\n",
    "    \n",
    "#     return len(set(telephone_num))\n",
    "\n",
    "\n",
    "\n",
    "# total_records = count_phonenum(texts, calls)\n",
    "\n",
    "# print(f\"There are {total_records} different telephone numbers in the records.\")"
   ]
  },
  {
   "cell_type": "code",
   "execution_count": 80,
   "metadata": {},
   "outputs": [
    {
     "name": "stdout",
     "output_type": "stream",
     "text": [
      "There are 570 different telephone numbers in the records.\n"
     ]
    }
   ],
   "source": [
    "# def count_phonenum(texts, calls):\n",
    "    \n",
    "#     record_total = []\n",
    "\n",
    "#     for detail in texts:\n",
    "#         record_total.extend([detail[0], detail[1]])\n",
    "\n",
    "#     for detail in calls:\n",
    "#         record_total.extend([detail[0], detail[1]])\n",
    "\n",
    "    \n",
    "#     return len(set(record_total))\n",
    "\n",
    "\n",
    "\n",
    "# total_records = count_phonenum(texts, calls)\n",
    "\n",
    "# print(f\"There are {total_records} different telephone numbers in the records.\")"
   ]
  },
  {
   "cell_type": "markdown",
   "metadata": {},
   "source": [
    "### task1: COMPLETE SOLUTION"
   ]
  },
  {
   "cell_type": "code",
   "execution_count": 90,
   "metadata": {},
   "outputs": [
    {
     "name": "stdout",
     "output_type": "stream",
     "text": [
      "There are 570 different telephone numbers in the records.\n"
     ]
    }
   ],
   "source": [
    "def count_phone_num(texts, calls):\n",
    "    \n",
    "    record_total = []\n",
    "\n",
    "    for text_detail, call_detail in zip(texts,calls):\n",
    "        record_total.extend([text_detail[0], text_detail[1], call_detail[0], call_detail[1]])\n",
    "\n",
    "    return len(set(record_total))\n",
    "\n",
    "\n",
    "\n",
    "total_records = count_phone_num(texts, calls)\n",
    "\n",
    "print(f\"There are {total_records} different telephone numbers in the records.\")"
   ]
  },
  {
   "cell_type": "markdown",
   "metadata": {},
   "source": [
    "## TASK 2"
   ]
  },
  {
   "cell_type": "code",
   "execution_count": 1,
   "metadata": {},
   "outputs": [
    {
     "data": {
      "text/plain": [
       "'\\nTASK 2: Which telephone number spent the longest time on the phone\\nduring the period? Don\\'t forget that time spent answering a call is\\nalso time spent on the phone.\\nPrint a message:\\n\"<telephone number> spent the longest time, <total time> seconds, on the phone during \\nSeptember 2016.\".\\n'"
      ]
     },
     "execution_count": 1,
     "metadata": {},
     "output_type": "execute_result"
    }
   ],
   "source": [
    "\"\"\"\n",
    "Read file into texts and calls.\n",
    "It's ok if you don't understand how to read files\n",
    "\"\"\"\n",
    "import csv\n",
    "with open('texts.csv', 'r') as f:\n",
    "    reader = csv.reader(f)\n",
    "    texts = list(reader)\n",
    "\n",
    "with open('calls.csv', 'r') as f:\n",
    "    reader = csv.reader(f)\n",
    "    calls = list(reader)\n",
    "\n",
    "\"\"\"\n",
    "TASK 2: Which telephone number spent the longest time on the phone\n",
    "during the period? Don't forget that time spent answering a call is\n",
    "also time spent on the phone.\n",
    "Print a message:\n",
    "\"<telephone number> spent the longest time, <total time> seconds, on the phone during \n",
    "September 2016.\".\n",
    "\"\"\""
   ]
  },
  {
   "cell_type": "markdown",
   "metadata": {},
   "source": [
    "## task 2: COMPLETE SOLUTION"
   ]
  },
  {
   "cell_type": "code",
   "execution_count": 2,
   "metadata": {},
   "outputs": [],
   "source": [
    "def find_telephone_duration(calls):\n",
    "    person_list = {}\n",
    "\n",
    "    for details in calls:\n",
    "\n",
    "        if details[0] not in person_list.keys():\n",
    "\n",
    "            person_list[details[0]] =  details[-1]\n",
    "\n",
    "        else:\n",
    "            person_list.update({details[0]: int(person_list[details[0]]) + int(details[-1]) })\n",
    "\n",
    "\n",
    "        if details[1] not in person_list.keys():\n",
    "\n",
    "            person_list[details[1]] =  details[-1]\n",
    "\n",
    "        else:\n",
    "            person_list.update({details[1]: int(person_list[details[1]]) + int(details[-1]) })\n",
    "\n",
    "\n",
    "\n",
    "    all_call_durations=[int(i) for i in person_list.values()]\n",
    "    max_duration = max(all_call_durations)\n",
    "\n",
    "    for k in person_list.keys():\n",
    "        if person_list[k] == max_duration:\n",
    "            telephone = k \n",
    "            break\n",
    "            \n",
    "            \n",
    "    return telephone, max_duration\n"
   ]
  },
  {
   "cell_type": "code",
   "execution_count": 3,
   "metadata": {},
   "outputs": [
    {
     "name": "stdout",
     "output_type": "stream",
     "text": [
      "(080)33251027 spent the longest time, 90456 seconds, on the phone during September 2016.\n"
     ]
    }
   ],
   "source": [
    "telephone, max_duration = find_telephone_duration(calls)\n",
    "\n",
    "print(f\"{telephone} spent the longest time, {max_duration} seconds, on the phone during September 2016.\")"
   ]
  },
  {
   "cell_type": "markdown",
   "metadata": {},
   "source": [
    "## TASK3"
   ]
  },
  {
   "cell_type": "code",
   "execution_count": 4,
   "metadata": {},
   "outputs": [],
   "source": [
    "\"\"\"\n",
    "Read file into texts and calls.\n",
    "It's ok if you don't understand how to read files.\n",
    "\"\"\"\n",
    "import csv\n",
    "\n",
    "with open('texts.csv', 'r') as f:\n",
    "    reader = csv.reader(f)\n",
    "    texts = list(reader)\n",
    "\n",
    "with open('calls.csv', 'r') as f:\n",
    "    reader = csv.reader(f)\n",
    "    calls = list(reader)\n",
    "\n",
    "    \n",
    "\"\"\"\n",
    "TASK 3:\n",
    "(080) is the area code for fixed line telephones in Bangalore.\n",
    "Fixed line numbers include parentheses, so Bangalore numbers\n",
    "have the form (080)xxxxxxx.)\n",
    "\n",
    "Part A: Find all of the area codes and mobile prefixes called by people\n",
    "in Bangalore.\n",
    " - Fixed lines start with an area code enclosed in brackets. The area\n",
    "   codes vary in length but always begin with 0.\n",
    " - Mobile numbers have no parentheses, but have a space in the middle\n",
    "   of the number to help readability. The prefix of a mobile number\n",
    "   is its first four digits, and they always start with 7, 8 or 9.\n",
    " - Telemarketers' numbers have no parentheses or space, but they start\n",
    "   with the area code 140.\n",
    "\n",
    "Print the answer as part of a message:\n",
    "\"The numbers called by people in Bangalore have codes:\"\n",
    " <list of codes>\n",
    "The list of codes should be print out one per line in lexicographic order with no duplicates.\n",
    "\n",
    "Part B: What percentage of calls from fixed lines in Bangalore are made\n",
    "to fixed lines also in Bangalore? In other words, of all the calls made\n",
    "from a number starting with \"(080)\", what percentage of these calls\n",
    "were made to a number also starting with \"(080)\"?\n",
    "\n",
    "Print the answer as a part of a message::\n",
    "\"<percentage> percent of calls from fixed lines in Bangalore are calls\n",
    "to other fixed lines in Bangalore.\"\n",
    "The percentage should have 2 decimal digits\n",
    "\"\"\"\n"
   ]
  },
  {
   "cell_type": "code",
   "execution_count": 49,
   "metadata": {},
   "outputs": [
    {
     "data": {
      "text/plain": [
       "1080"
      ]
     },
     "execution_count": 49,
     "metadata": {},
     "output_type": "execute_result"
    }
   ],
   "source": [
    "# using list comprehension to find all calling user in banglore\n",
    "banglore_callers = [ [details[0], details[1]] for details in calls if details[0][:5] == '(080)']\n",
    "len(banglore_callers)"
   ]
  },
  {
   "cell_type": "code",
   "execution_count": 4,
   "metadata": {},
   "outputs": [
    {
     "data": {
      "text/plain": [
       "99"
      ]
     },
     "execution_count": 4,
     "metadata": {},
     "output_type": "execute_result"
    }
   ],
   "source": [
    "len(set(banglore_callers))"
   ]
  },
  {
   "cell_type": "markdown",
   "metadata": {},
   "source": [
    "### task 3: COMPLETE SOLUTION"
   ]
  },
  {
   "cell_type": "code",
   "execution_count": 15,
   "metadata": {},
   "outputs": [
    {
     "name": "stdout",
     "output_type": "stream",
     "text": [
      "The numbers called by people in Bangalore have codes:\n",
      "022\n",
      "040\n",
      "043\n",
      "044\n",
      "045\n",
      "047\n",
      "080\n",
      "082\n",
      "7406\n",
      "7795\n",
      "7813\n",
      "7829\n",
      "8151\n",
      "8152\n",
      "8301\n",
      "8431\n",
      "8714\n",
      "9008\n",
      "9019\n",
      "9035\n",
      "9036\n",
      "9241\n",
      "9242\n",
      "9341\n",
      "9342\n",
      "9343\n",
      "9400\n",
      "9448\n",
      "9449\n",
      "9526\n",
      "9656\n",
      "9738\n",
      "9740\n",
      "9741\n",
      "9742\n",
      "9844\n",
      "9845\n",
      "9900\n",
      "9961\n",
      "\n",
      "24.81 percent of calls from fixed lines in Bangalore are calls to other fixed lines in Bangalore.\n"
     ]
    }
   ],
   "source": [
    "### part 1 solution\n",
    "\n",
    "def find_unique_codes(banglore_callers):\n",
    "    \n",
    "    codes = []\n",
    "\n",
    "    for users in banglore_callers:\n",
    "\n",
    "        receiver = users[1]\n",
    "    \n",
    "        if receiver[:2] == '(0':\n",
    "            codes.append(receiver[1:4])\n",
    "\n",
    "        if receiver[:3] == '140':\n",
    "            codes.append('140')\n",
    "                   \n",
    "        if receiver[0] == '7' or receiver[0] == '8' or receiver[0] == '9':\n",
    "            codes.append(receiver[:4])\n",
    "            \n",
    "    unique_codes = sorted(list(set(codes)))\n",
    "        \n",
    "    return unique_codes\n",
    "\n",
    "\n",
    "\n",
    "\n",
    "### part 2 solution\n",
    "\n",
    "def percentage_receiver(banglore_callers):\n",
    "\n",
    "    banglore_receiver = [user[1] for user in banglore_callers if user[1][:5] == '(080)']\n",
    "\n",
    "    percentage  = len(banglore_receiver)/len(banglore_callers) * 100\n",
    "    \n",
    "    return percentage\n",
    "\n",
    "\n",
    "\n",
    "banglore_callers = [ [details[0], details[1]] for details in calls if details[0][:5] == '(080)']\n",
    "\n",
    "unique_codes = find_unique_codes(banglore_callers)\n",
    "\n",
    "print(\"The numbers called by people in Bangalore have codes:\")\n",
    "for ph_code in unique_codes:\n",
    "    print(ph_code)\n",
    "    \n",
    "percentage = percentage_receiver(banglore_callers)\n",
    "print(\"\\n{:.2f} percent of calls from fixed lines in Bangalore are calls to other fixed lines in Bangalore.\".format(percentage))"
   ]
  },
  {
   "cell_type": "code",
   "execution_count": 16,
   "metadata": {},
   "outputs": [
    {
     "data": {
      "text/plain": [
       "39"
      ]
     },
     "execution_count": 16,
     "metadata": {},
     "output_type": "execute_result"
    }
   ],
   "source": [
    "len(unique_codes)"
   ]
  },
  {
   "cell_type": "markdown",
   "metadata": {},
   "source": [
    "## TASK 4"
   ]
  },
  {
   "cell_type": "code",
   "execution_count": 56,
   "metadata": {},
   "outputs": [
    {
     "data": {
      "text/plain": [
       "'\\nTASK 4:\\nThe telephone company want to identify numbers that might be doing\\ntelephone marketing. Create a set of possible telemarketers:\\nthese are numbers that make outgoing calls but never send texts,\\nreceive texts or receive incoming calls.\\n\\nPrint a message:\\n\"These numbers could be telemarketers: \"\\n<list of numbers>\\nThe list of numbers should be print out one per line in lexicographic order with no duplicates.\\n'"
      ]
     },
     "execution_count": 56,
     "metadata": {},
     "output_type": "execute_result"
    }
   ],
   "source": [
    "\"\"\"\n",
    "Read file into texts and calls.\n",
    "It's ok if you don't understand how to read files.\n",
    "\"\"\"\n",
    "import csv\n",
    "\n",
    "with open('texts.csv', 'r') as f:\n",
    "    reader = csv.reader(f)\n",
    "    texts = list(reader)\n",
    "\n",
    "with open('calls.csv', 'r') as f:\n",
    "    reader = csv.reader(f)\n",
    "    calls = list(reader)\n",
    "\n",
    "\"\"\"\n",
    "TASK 4:\n",
    "The telephone company want to identify numbers that might be doing\n",
    "telephone marketing. Create a set of possible telemarketers:\n",
    "these are numbers that make outgoing calls but never send texts,\n",
    "receive texts or receive incoming calls.\n",
    "\n",
    "Print a message:\n",
    "\"These numbers could be telemarketers: \"\n",
    "<list of numbers>\n",
    "The list of numbers should be print out one per line in lexicographic order with no duplicates.\n",
    "\"\"\"\n"
   ]
  },
  {
   "cell_type": "code",
   "execution_count": 35,
   "metadata": {},
   "outputs": [
    {
     "name": "stdout",
     "output_type": "stream",
     "text": [
      "These numbers could be telemarketers: \n",
      "1400481538\n",
      "1401747654\n",
      "1402316533\n",
      "1403072432\n",
      "1403579926\n",
      "1404073047\n",
      "1404368883\n",
      "1404787681\n",
      "1407539117\n",
      "1408371942\n",
      "1408409918\n",
      "1408672243\n",
      "1409421631\n",
      "1409668775\n",
      "1409994233\n"
     ]
    }
   ],
   "source": [
    "telemarketers = [details[0] for details in calls if details[0][:3] == '140']\n",
    "\n",
    "unique_telemarketers = sorted(list(set(telemarketers)))\n",
    "\n",
    "print(\"These numbers could be telemarketers: \")\n",
    "for ph_num in unique_telemarketers:\n",
    "    print(ph_num)"
   ]
  },
  {
   "cell_type": "code",
   "execution_count": 44,
   "metadata": {
    "scrolled": true
   },
   "outputs": [
    {
     "data": {
      "text/plain": [
       "['(022)37572285',\n",
       " '(022)65548497',\n",
       " '(022)68535788',\n",
       " '(022)69042431',\n",
       " '(040)30429041',\n",
       " '(044)22020822',\n",
       " '(0471)2171438',\n",
       " '(0471)6579079',\n",
       " '(080)20383942',\n",
       " '(080)25820765',\n",
       " '(080)31606520',\n",
       " '(080)40362016',\n",
       " '(080)60463379',\n",
       " '(080)60998034',\n",
       " '(080)62963633',\n",
       " '(080)64015211',\n",
       " '(080)69887826',\n",
       " '(0821)3257740',\n",
       " '1400481538',\n",
       " '1401747654',\n",
       " '1402316533',\n",
       " '1403072432',\n",
       " '1403579926',\n",
       " '1404073047',\n",
       " '1404368883',\n",
       " '1404787681',\n",
       " '1407539117',\n",
       " '1408371942',\n",
       " '1408409918',\n",
       " '1408672243',\n",
       " '1409421631',\n",
       " '1409668775',\n",
       " '1409994233',\n",
       " '74064 66270',\n",
       " '78291 94593',\n",
       " '87144 55014',\n",
       " '90351 90193',\n",
       " '92414 69419',\n",
       " '94495 03761',\n",
       " '97404 30456',\n",
       " '97407 84573',\n",
       " '97442 45192',\n",
       " '99617 25274']"
      ]
     },
     "execution_count": 44,
     "metadata": {},
     "output_type": "execute_result"
    }
   ],
   "source": [
    "call_sender = list(set( [details[0] for details in calls] ))\n",
    "call_receiver = list(set( [details[1] for details in calls] ))\n",
    "text_sender = list(set( [details[0] for details in texts] ))\n",
    "text_receiver = list(set( [details[1] for details in texts] ))\n",
    "\n",
    "telemarketers = sorted([marketer for marketer in call_sender if marketer not in call_receiver \n",
    "                        and marketer not in text_sender and marketer not in text_receiver])\n",
    "       \n",
    "telemarketers"
   ]
  },
  {
   "cell_type": "markdown",
   "metadata": {},
   "source": [
    "### task 4: COMPLETE SOLUTION"
   ]
  },
  {
   "cell_type": "code",
   "execution_count": 58,
   "metadata": {},
   "outputs": [
    {
     "name": "stdout",
     "output_type": "stream",
     "text": [
      "These numbers could be telemarketers: \n",
      "(022)37572285\n",
      "(022)65548497\n",
      "(022)68535788\n",
      "(022)69042431\n",
      "(040)30429041\n",
      "(044)22020822\n",
      "(0471)2171438\n",
      "(0471)6579079\n",
      "(080)20383942\n",
      "(080)25820765\n",
      "(080)31606520\n",
      "(080)40362016\n",
      "(080)60463379\n",
      "(080)60998034\n",
      "(080)62963633\n",
      "(080)64015211\n",
      "(080)69887826\n",
      "(0821)3257740\n",
      "1400481538\n",
      "1401747654\n",
      "1402316533\n",
      "1403072432\n",
      "1403579926\n",
      "1404073047\n",
      "1404368883\n",
      "1404787681\n",
      "1407539117\n",
      "1408371942\n",
      "1408409918\n",
      "1408672243\n",
      "1409421631\n",
      "1409668775\n",
      "1409994233\n",
      "74064 66270\n",
      "78291 94593\n",
      "87144 55014\n",
      "90351 90193\n",
      "92414 69419\n",
      "94495 03761\n",
      "97404 30456\n",
      "97407 84573\n",
      "97442 45192\n",
      "99617 25274\n"
     ]
    }
   ],
   "source": [
    "def possible_telemarketers(call, text):\n",
    "    \n",
    "    call_sender = list(set( [details[0] for details in call] ))\n",
    "    call_receiver = list(set( [details[1] for details in call] ))\n",
    "    text_sender = list(set( [details[0] for details in text] ))\n",
    "    text_receiver = list(set( [details[1] for details in text] ))\n",
    "\n",
    "    telemarketers = []\n",
    "    \n",
    "    for marketer in call_sender:\n",
    "        if marketer not in call_receiver and marketer not in text_sender and marketer not in text_receiver:\n",
    "            telemarketers.append(marketer)\n",
    "            \n",
    "    return sorted(telemarketers)\n",
    "        \n",
    "    \n",
    "                  \n",
    "marketers = possible_telemarketers(calls, texts)\n",
    "                  \n",
    "print(\"These numbers could be telemarketers: \")\n",
    "for ph_num in marketers:\n",
    "    print(ph_num)"
   ]
  },
  {
   "cell_type": "code",
   "execution_count": null,
   "metadata": {},
   "outputs": [],
   "source": []
  }
 ],
 "metadata": {
  "kernelspec": {
   "display_name": "Python 3",
   "language": "python",
   "name": "python3"
  },
  "language_info": {
   "codemirror_mode": {
    "name": "ipython",
    "version": 3
   },
   "file_extension": ".py",
   "mimetype": "text/x-python",
   "name": "python",
   "nbconvert_exporter": "python",
   "pygments_lexer": "ipython3",
   "version": "3.6.9"
  }
 },
 "nbformat": 4,
 "nbformat_minor": 2
}
